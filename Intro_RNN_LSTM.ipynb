{
 "cells": [
  {
   "cell_type": "markdown",
   "metadata": {},
   "source": [
    "## RNN = Recurrent Neural Network\n",
    "#### $$h_t = \\tanh(w_{ih} \\times x_t + b_{ih} + w_{hh} \\times h_{t-1} + b_{hh}$$\n",
    "##### 1. $h_{t-1}$ - 前一时刻输出的隐藏变量\n",
    "##### 2. $x_t$ - 该时刻的输入向量"
   ]
  },
  {
   "cell_type": "code",
   "execution_count": 1,
   "metadata": {},
   "outputs": [],
   "source": [
    "from torch import nn"
   ]
  },
  {
   "cell_type": "code",
   "execution_count": 2,
   "metadata": {},
   "outputs": [],
   "source": [
    "# 输入特征维度为 5, 隐藏向量的特征维度为 7\n",
    "rnn_cell = nn.RNNCell(input_size = 5, hidden_size = 7)"
   ]
  },
  {
   "cell_type": "code",
   "execution_count": 3,
   "metadata": {},
   "outputs": [
    {
     "data": {
      "text/plain": [
       "RNNCell(5, 7)"
      ]
     },
     "execution_count": 3,
     "metadata": {},
     "output_type": "execute_result"
    }
   ],
   "source": [
    "rnn_cell"
   ]
  },
  {
   "cell_type": "code",
   "execution_count": 4,
   "metadata": {},
   "outputs": [
    {
     "name": "stdout",
     "output_type": "stream",
     "text": [
      "Parameter containing:\n",
      "tensor([[ 0.0077,  0.1008,  0.1247,  0.0154, -0.0833],\n",
      "        [ 0.3569, -0.0952,  0.3412,  0.3544, -0.3669],\n",
      "        [ 0.2429, -0.1582,  0.0115,  0.1180, -0.1244],\n",
      "        [-0.2614, -0.0604, -0.2257, -0.0659,  0.1029],\n",
      "        [-0.1459,  0.1111,  0.1475, -0.3432, -0.3094],\n",
      "        [-0.1935,  0.0313, -0.0643, -0.1423, -0.2273],\n",
      "        [ 0.0744, -0.0722, -0.3413, -0.3499, -0.1177]], requires_grad=True)\n",
      "Parameter containing:\n",
      "tensor([[-0.1566, -0.1068,  0.2955,  0.3457, -0.3213,  0.1127,  0.2691],\n",
      "        [ 0.0831,  0.2043,  0.0523, -0.1140,  0.0712, -0.0049,  0.1523],\n",
      "        [ 0.0377,  0.0293, -0.3171,  0.1407, -0.0375,  0.0279,  0.0204],\n",
      "        [ 0.0438,  0.1344, -0.0286,  0.1958, -0.2138, -0.2879,  0.1420],\n",
      "        [ 0.0525,  0.0703,  0.2155, -0.3119,  0.0903, -0.2384,  0.2589],\n",
      "        [-0.0364,  0.2902, -0.0801,  0.1708,  0.1888,  0.0107, -0.3042],\n",
      "        [-0.1022, -0.3021, -0.0116,  0.2234, -0.0167,  0.3207, -0.2658]],\n",
      "       requires_grad=True)\n",
      "Parameter containing:\n",
      "tensor([ 0.3491,  0.0795,  0.1865,  0.2130, -0.1647, -0.1989, -0.0422],\n",
      "       requires_grad=True)\n",
      "Parameter containing:\n",
      "tensor([-0.3469,  0.0473,  0.3602, -0.0881,  0.0425, -0.0355,  0.0629],\n",
      "       requires_grad=True)\n"
     ]
    }
   ],
   "source": [
    "# 查看 RNNCell 的权值属性\n",
    "print(rnn_cell.weight_ih)\n",
    "print(rnn_cell.weight_hh)\n",
    "print(rnn_cell.bias_ih)\n",
    "print(rnn_cell.bias_hh)"
   ]
  },
  {
   "cell_type": "code",
   "execution_count": 5,
   "metadata": {},
   "outputs": [],
   "source": [
    "import torch"
   ]
  },
  {
   "cell_type": "code",
   "execution_count": 6,
   "metadata": {},
   "outputs": [
    {
     "data": {
      "text/plain": [
       "tensor([[ 0.5858, -0.2554, -0.0037,  0.1401, -0.2586, -0.5967,  0.1548]],\n",
       "       grad_fn=<TanhBackward>)"
      ]
     },
     "execution_count": 6,
     "metadata": {},
     "output_type": "execute_result"
    }
   ],
   "source": [
    "Input = torch.rand(1, 5)\n",
    "Hidden = torch.randn(1, 7)\n",
    "rnn_cell(Input, Hidden)"
   ]
  },
  {
   "cell_type": "code",
   "execution_count": 7,
   "metadata": {},
   "outputs": [],
   "source": [
    "# rnn 可以处理一串序列\n",
    "rnn = nn.RNN(input_size = 5, hidden_size = 7)"
   ]
  },
  {
   "cell_type": "code",
   "execution_count": 8,
   "metadata": {},
   "outputs": [],
   "source": [
    "Input = torch.rand(3, 2, 5) # 初始化一个批量数为 2, 序列长度为 3, 特征维度数为 5 的输入\n",
    "Hidden_0 = torch.randn(1, 2, 7)"
   ]
  },
  {
   "cell_type": "code",
   "execution_count": 9,
   "metadata": {},
   "outputs": [],
   "source": [
    "Output, Hidden_1 = rnn(Input, Hidden_0)"
   ]
  },
  {
   "cell_type": "code",
   "execution_count": 10,
   "metadata": {},
   "outputs": [
    {
     "name": "stdout",
     "output_type": "stream",
     "text": [
      "torch.Size([3, 2, 7])\n",
      "torch.Size([1, 2, 7])\n"
     ]
    }
   ],
   "source": [
    "print(Output.size())\n",
    "print(Hidden_1.size())"
   ]
  },
  {
   "cell_type": "code",
   "execution_count": null,
   "metadata": {},
   "outputs": [],
   "source": []
  },
  {
   "cell_type": "markdown",
   "metadata": {},
   "source": [
    "## LSTM = Long-Short Term Memory\n",
    "### Hochreiter and Schmidhuber, 1997, 处理 \"梯度消失\" 现象\n",
    "#### 输入: $h_{t-1}, c_{t-1}, x_t$\n",
    "#### 输出: $(h_t, c_t)$"
   ]
  },
  {
   "cell_type": "code",
   "execution_count": 11,
   "metadata": {},
   "outputs": [],
   "source": [
    "lstm_cell = nn.LSTMCell(input_size = 5, hidden_size = 7)"
   ]
  },
  {
   "cell_type": "code",
   "execution_count": 12,
   "metadata": {},
   "outputs": [],
   "source": [
    "Input = torch.rand(1, 5)\n",
    "H_0 = torch.randn(1, 7)\n",
    "C_0 = torch.randn(1, 7)"
   ]
  },
  {
   "cell_type": "code",
   "execution_count": 13,
   "metadata": {},
   "outputs": [
    {
     "data": {
      "text/plain": [
       "(tensor([[-0.4472,  0.2017, -0.2630, -0.3902, -0.1862, -0.0136,  0.1125]],\n",
       "        grad_fn=<MulBackward0>),\n",
       " tensor([[-0.7371,  0.4007, -0.4013, -0.5062, -0.3430, -0.0419,  0.4852]],\n",
       "        grad_fn=<AddBackward0>))"
      ]
     },
     "execution_count": 13,
     "metadata": {},
     "output_type": "execute_result"
    }
   ],
   "source": [
    "lstm_cell(Input, (H_0, C_0))"
   ]
  },
  {
   "cell_type": "code",
   "execution_count": 14,
   "metadata": {},
   "outputs": [],
   "source": [
    "lstm = nn.LSTM(input_size = 5, hidden_size = 7)"
   ]
  },
  {
   "cell_type": "code",
   "execution_count": 15,
   "metadata": {},
   "outputs": [],
   "source": [
    "Input = torch.rand(3, 2, 5)\n",
    "H_0 = torch.randn(1, 2, 7)\n",
    "C_0 = torch.randn(1, 2, 7)"
   ]
  },
  {
   "cell_type": "code",
   "execution_count": 16,
   "metadata": {},
   "outputs": [],
   "source": [
    "Output, (H_1, C_1) = lstm(Input, (H_0, C_0))"
   ]
  },
  {
   "cell_type": "code",
   "execution_count": 17,
   "metadata": {},
   "outputs": [
    {
     "name": "stdout",
     "output_type": "stream",
     "text": [
      "torch.Size([3, 2, 7])\n",
      "torch.Size([1, 2, 7])\n",
      "torch.Size([1, 2, 7])\n"
     ]
    }
   ],
   "source": [
    "print(Output.size())\n",
    "print(H_1.size())\n",
    "print(C_1.size())"
   ]
  },
  {
   "cell_type": "code",
   "execution_count": null,
   "metadata": {},
   "outputs": [],
   "source": []
  },
  {
   "cell_type": "code",
   "execution_count": null,
   "metadata": {},
   "outputs": [],
   "source": []
  }
 ],
 "metadata": {
  "kernelspec": {
   "display_name": "Python 3",
   "language": "python",
   "name": "python3"
  },
  "language_info": {
   "codemirror_mode": {
    "name": "ipython",
    "version": 3
   },
   "file_extension": ".py",
   "mimetype": "text/x-python",
   "name": "python",
   "nbconvert_exporter": "python",
   "pygments_lexer": "ipython3",
   "version": "3.6.9"
  }
 },
 "nbformat": 4,
 "nbformat_minor": 4
}
